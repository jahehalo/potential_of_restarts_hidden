{
 "cells": [
  {
   "cell_type": "code",
   "execution_count": 2,
   "metadata": {},
   "outputs": [],
   "source": [
    "import os\n",
    "from glob import glob\n",
    "\n",
    "import numpy as np\n",
    "import pandas as pd\n",
    "\n",
    "import matplotlib.pyplot as plt\n",
    "from scipy.stats import gmean"
   ]
  },
  {
   "cell_type": "code",
   "execution_count": null,
   "metadata": {},
   "outputs": [],
   "source": []
  },
  {
   "cell_type": "code",
   "execution_count": 4,
   "metadata": {},
   "outputs": [],
   "source": [
    "path_no_restarts = '../outputs/output_test/'\n",
    "path_restarts = '../outputs/output_test_restart/'\n",
    "path_agressive = '../outputs/output_test_agressive/'\n",
    "names = []\n",
    "mean_no_restarts = []\n",
    "mean_restarts = []\n",
    "mean_agressive = []\n",
    "for file in glob(path_no_restarts + \"*/*/*.result\", recursive=False):\n",
    "    name = file.replace(path_no_restarts, \"\")\n",
    "    name = name.split(\".cnf\")[0]\n",
    "    name = name + \".cnf\"\n",
    "    names.append(name)\n",
    "    \n",
    "    mean_no_restarts.append(np.loadtxt(file, usecols=0).mean())\n",
    "    \n",
    "    restart_file = glob(path_restarts + name + \"*\")[0]\n",
    "    mean_restarts.append(np.loadtxt(restart_file, usecols=0).mean())\n",
    "    \n",
    "    agressive_file = glob(path_agressive + name + \"*\")[0]\n",
    "    mean_agressive.append(np.loadtxt(agressive_file, usecols=0).mean())"
   ]
  },
  {
   "cell_type": "code",
   "execution_count": 5,
   "metadata": {},
   "outputs": [],
   "source": [
    "df = pd.DataFrame({'no_restarts':mean_no_restarts, 'with_restarts':mean_restarts, 'agressive':mean_agressive}, index=names)"
   ]
  },
  {
   "cell_type": "code",
   "execution_count": 6,
   "metadata": {},
   "outputs": [],
   "source": [
    "df.to_csv('compare_no_restart_to_restart.csv')"
   ]
  },
  {
   "cell_type": "code",
   "execution_count": 7,
   "metadata": {},
   "outputs": [],
   "source": [
    "A = df['with_restarts']/df['agressive']"
   ]
  },
  {
   "cell_type": "code",
   "execution_count": 8,
   "metadata": {},
   "outputs": [
    {
     "data": {
      "text/plain": [
       "3.7730723505153483"
      ]
     },
     "execution_count": 8,
     "metadata": {},
     "output_type": "execute_result"
    }
   ],
   "source": [
    "gmean(A)"
   ]
  },
  {
   "cell_type": "code",
   "execution_count": 9,
   "metadata": {},
   "outputs": [
    {
     "data": {
      "image/png": "[encoded data removed]",
      "text/plain": [
       "<Figure size 432x288 with 1 Axes>"
      ]
     },
     "metadata": {
      "needs_background": "light"
     },
     "output_type": "display_data"
    }
   ],
   "source": [
    "plt.scatter(mean_restarts, mean_no_restarts)\n",
    "plt.plot([1,10**10], [1,10**10], 'r')\n",
    "plt.xscale('log')\n",
    "plt.yscale('log')"
   ]
  },
  {
   "cell_type": "code",
   "execution_count": null,
   "metadata": {},
   "outputs": [],
   "source": []
  },
  {
   "cell_type": "code",
   "execution_count": 10,
   "metadata": {},
   "outputs": [],
   "source": [
    "m = np.mean(np.log(df['no_restarts']) - np.log(df['with_restarts']))"
   ]
  },
  {
   "cell_type": "code",
   "execution_count": 11,
   "metadata": {},
   "outputs": [
    {
     "data": {
      "text/plain": [
       "2.6030318042649845"
      ]
     },
     "execution_count": 11,
     "metadata": {},
     "output_type": "execute_result"
    }
   ],
   "source": [
    "m"
   ]
  },
  {
   "cell_type": "code",
   "execution_count": 12,
   "metadata": {},
   "outputs": [
    {
     "data": {
      "text/plain": [
       "13.504619394223905"
      ]
     },
     "execution_count": 12,
     "metadata": {},
     "output_type": "execute_result"
    }
   ],
   "source": [
    "np.exp(m)"
   ]
  },
  {
   "cell_type": "code",
   "execution_count": 13,
   "metadata": {},
   "outputs": [
    {
     "data": {
      "text/plain": [
       "380861106.76901674"
      ]
     },
     "execution_count": 13,
     "metadata": {},
     "output_type": "execute_result"
    }
   ],
   "source": [
    "np.mean(df['no_restarts'])"
   ]
  },
  {
   "cell_type": "code",
   "execution_count": 14,
   "metadata": {},
   "outputs": [
    {
     "data": {
      "text/plain": [
       "2448790.546116667"
      ]
     },
     "execution_count": 14,
     "metadata": {},
     "output_type": "execute_result"
    }
   ],
   "source": [
    "np.mean(df['with_restarts'])"
   ]
  },
  {
   "cell_type": "code",
   "execution_count": 15,
   "metadata": {},
   "outputs": [
    {
     "data": {
      "text/plain": [
       "155.53029121783922"
      ]
     },
     "execution_count": 15,
     "metadata": {},
     "output_type": "execute_result"
    }
   ],
   "source": [
    "np.mean(df['no_restarts'])/np.mean(df['with_restarts'])"
   ]
  },
  {
   "cell_type": "code",
   "execution_count": null,
   "metadata": {},
   "outputs": [],
   "source": []
  },
  {
   "cell_type": "code",
   "execution_count": null,
   "metadata": {},
   "outputs": [],
   "source": []
  },
  {
   "cell_type": "markdown",
   "metadata": {},
   "source": [
    "# Calculate speedup for the agressive strategy on all instances"
   ]
  },
  {
   "cell_type": "code",
   "execution_count": 16,
   "metadata": {},
   "outputs": [
    {
     "data": {
      "image/png": "[encoded data removed]",
      "text/plain": [
       "<Figure size 432x288 with 1 Axes>"
      ]
     },
     "metadata": {
      "needs_background": "light"
     },
     "output_type": "display_data"
    }
   ],
   "source": [
    "plt.scatter(mean_agressive, mean_no_restarts)\n",
    "plt.plot([1,10**10], [1,10**10], 'r')\n",
    "plt.xscale('log')\n",
    "plt.yscale('log')"
   ]
  },
  {
   "cell_type": "code",
   "execution_count": 17,
   "metadata": {},
   "outputs": [],
   "source": [
    "B = df['no_restarts']/df['agressive']"
   ]
  },
  {
   "cell_type": "code",
   "execution_count": 18,
   "metadata": {},
   "outputs": [
    {
     "data": {
      "text/plain": [
       "50.95390604057955"
      ]
     },
     "execution_count": 18,
     "metadata": {},
     "output_type": "execute_result"
    }
   ],
   "source": [
    "gmean(B)"
   ]
  },
  {
   "cell_type": "code",
   "execution_count": 19,
   "metadata": {},
   "outputs": [
    {
     "data": {
      "text/plain": [
       "47.596666666666664"
      ]
     },
     "execution_count": 19,
     "metadata": {},
     "output_type": "execute_result"
    }
   ],
   "source": [
    "min(mean_no_restarts)"
   ]
  },
  {
   "cell_type": "code",
   "execution_count": 20,
   "metadata": {},
   "outputs": [
    {
     "name": "stdout",
     "output_type": "stream",
     "text": [
      "53223.056666666664 11027184.53\n",
      "19070.426666666666 82992.41\n",
      "45339.71 872376.5933333334\n",
      "37356.346666666665 710503.1\n",
      "23071.376666666667 5804046.783333333\n",
      "62257.48333333333 15189472366.876667\n",
      "41578.683333333334 2071180.3333333333\n",
      "156905.46333333335 12072285325.233334\n",
      "9801.766666666666 50273.66\n",
      "82621.9 20178551.36\n",
      "16688.55 23632995.913333334\n",
      "12042.716666666667 39746219.69\n",
      "73458.68666666666 15004967.726666667\n",
      "6482.1866666666665 14276.12\n",
      "53124.573333333334 288983.79333333333\n",
      "48935.543333333335 438021.87333333335\n",
      "18770.42 16884745.30666667\n",
      "6922.79 174816.66666666666\n",
      "21776.226666666666 36597071.88333333\n",
      "86461.46666666666 82072330.90666667\n",
      "23456.506666666668 5437291.036666667\n",
      "24803.713333333333 2520516.73\n",
      "69634.34666666666 11631257.533333333\n",
      "161527.03 9629880877.62\n",
      "35636.18 41274.263333333336\n",
      "14215.413333333334 26744.766666666666\n",
      "336184.01666666666 6554089.88\n",
      "42204.19666666666 8528303.146666666\n",
      "13964.433333333332 97984.99666666667\n",
      "19164.77666666667 12223639.35\n",
      "72046.13333333333 26437955.953333333\n",
      "35363.35 79483.41333333333\n",
      "80426.11 357190.08666666667\n",
      "50394.73 19730989.383333333\n",
      "46462.81 64420963.763333336\n",
      "17978.206666666665 273402.31666666665\n",
      "38564.01 109177.97\n",
      "76771.55666666667 633925.7166666667\n",
      "90416.84333333334 21386898.963333335\n",
      "129207.15 383847757.9033333\n",
      "24831.426666666666 12611136.07\n",
      "108260.29 1272581.5966666667\n",
      "782.74 841.4133333333333\n",
      "22378.27 460580.3566666667\n",
      "143770.57666666666 4145315.513333333\n",
      "13055.156666666666 41513.89333333333\n",
      "1650.8933333333334 1478.7733333333333\n",
      "75819.23666666666 282801.15\n",
      "50538.583333333336 5953683.713333333\n",
      "32006.516666666666 1255651.55\n",
      "1767.6833333333334 929.61\n",
      "105194.72 7482252.16\n",
      "23446.53 33228.763333333336\n",
      "106046.3 123198775.42333333\n",
      "16201.063333333334 1099653.3966666667\n",
      "296833.99666666664 86380207.37666667\n",
      "35332.46333333333 22882.293333333335\n",
      "108371.18 79614316.88666667\n",
      "39212.02333333333 1110903.4966666666\n",
      "65489.91333333333 27000024.71\n",
      "122059.20666666667 23496110.803333335\n",
      "214220.68333333332 179773521.08666667\n",
      "75942.64 296191.2966666667\n",
      "45788.77333333333 903836.2933333333\n",
      "37110.28666666667 3699597.953333333\n",
      "26565.21 207552255.35333332\n",
      "14900.173333333334 3738781.723333333\n",
      "24135.63 136361.53666666665\n",
      "281475.26666666666 702096486.7033334\n",
      "98441.41666666667 8452313.94\n",
      "18150.383333333335 1021632.4433333334\n",
      "109759.07666666666 544478.5466666666\n",
      "37565.07666666667 88083273.30666667\n",
      "40328.77333333333 4069950.7733333334\n",
      "17542.89 6410249.886666667\n",
      "72816.68 6446169.626666667\n",
      "71871.70333333334 2552834.23\n",
      "9929.08 37873.09\n",
      "45383.306666666664 574334.5733333334\n",
      "191001.12333333332 2540208630.46\n",
      "165410.70333333334 572706479.72\n",
      "194031.66333333333 3400554.8266666667\n",
      "79371.40666666666 16364706754.85\n",
      "49118.53666666667 198880198.24\n",
      "163072.10333333333 29869417.116666667\n",
      "138673.46333333335 51538406.303333335\n",
      "27450.8 271982.37333333335\n",
      "142268.22333333333 522924741.00666666\n",
      "51576.513333333336 8611752.943333333\n",
      "67002.12 507305010.48333335\n",
      "78452.53 6945616.106666666\n",
      "92188.94666666667 44705786.79666667\n",
      "14525.333333333334 23834.706666666665\n",
      "40962.78333333333 17494683.596666668\n",
      "715.9966666666667 716.1366666666667\n",
      "42983.12333333334 53046927.02333333\n",
      "40768.34333333333 15671961.88\n",
      "41559.91333333333 2930509.6333333333\n",
      "26469.143333333333 3565229.1933333334\n",
      "102502.96333333333 376051343.21666664\n",
      "76.24333333333334 78.37\n",
      "141.17333333333335 127.71333333333334\n",
      "23296.496666666666 148072243.21333334\n",
      "8465.096666666666 1515407.5833333333\n",
      "112.59333333333333 106.30666666666667\n",
      "108.61666666666666 94.36\n",
      "75.20666666666666 73.53333333333333\n",
      "8280.703333333333 28501153.61\n",
      "12279.476666666667 229069686.23333332\n",
      "14027.61 797333.1\n",
      "144.06333333333333 138.12333333333333\n",
      "20763.35 106076880.66\n",
      "11129.196666666667 9862661.223333333\n",
      "10634.653333333334 42157595.01\n",
      "330.73333333333335 222.70666666666668\n",
      "9509.71 2622747.6533333333\n",
      "90.41333333333333 83.86\n",
      "165.14666666666668 159.43666666666667\n",
      "5911.653333333334 1379008.7333333334\n",
      "13486.743333333334 10980518.81\n",
      "18162.7 14672991.953333333\n",
      "14312.87 9410937.333333334\n",
      "88.06666666666666 91.43\n",
      "165.64333333333335 161.69\n",
      "86.97666666666667 82.81666666666666\n",
      "11619.526666666667 147361971.20666668\n",
      "5331.6466666666665 1201441.7033333334\n",
      "84.64666666666666 93.37666666666667\n",
      "63.13 61.24333333333333\n",
      "16481.553333333333 102354687.01333334\n",
      "130.32333333333332 114.27666666666667\n",
      "138.07666666666665 164.68\n",
      "8339.783333333333 5315521.18\n",
      "205.56333333333333 153.72\n",
      "359.1333333333333 264.92333333333335\n",
      "101.14666666666666 109.39\n",
      "15215.316666666668 498077786.46\n",
      "46.016666666666666 47.596666666666664\n",
      "71.42666666666666 68.66666666666667\n",
      "70.98 70.77666666666667\n",
      "61.08 58.903333333333336\n",
      "64.45 67.89\n",
      "15183.05 3428961361.58\n",
      "13349.666666666666 21002542.733333334\n",
      "757.7133333333334 696.3833333333333\n",
      "20688.233333333334 1434517742.63\n",
      "293.85 287.87666666666667\n",
      "322.41333333333336 284.63\n",
      "5224.456666666667 342913.48\n",
      "20821.54 1375034764.6233332\n",
      "9806.226666666667 34577270.35333333\n",
      "1094.6266666666668 944.3\n",
      "13294.083333333334 17378150.683333334\n",
      "15464.926666666666 128994436.70666666\n",
      "26091.516666666666 391809735.43666667\n",
      "26137.466666666667 623219531.7033334\n",
      "320.86333333333334 342.91\n",
      "311.8566666666667 265.42333333333335\n",
      "97.35 90.92666666666666\n",
      "4917.246666666667 1664663.98\n",
      "210.69 203.6\n",
      "154.58666666666667 144.73\n",
      "203.77666666666667 182.64666666666668\n",
      "9444.523333333333 268389487.93333334\n",
      "73.73666666666666 69.7\n",
      "93.64333333333333 92.18666666666667\n",
      "7045.54 6354207.066666666\n",
      "17370.13 3028505410.32\n",
      "11464.463333333333 589544.46\n",
      "134.69 134.24\n",
      "168.63 140.32\n",
      "149.48 160.33666666666667\n",
      "32334.593333333334 1045022213.51\n",
      "49.36 48.723333333333336\n",
      "74.04333333333334 69.77\n",
      "933.6366666666667 1071.26\n",
      "300.24333333333334 226.16333333333333\n",
      "14298.05 676784993.0533333\n",
      "132.66666666666666 116.38666666666667\n",
      "146.70333333333335 144.05666666666667\n",
      "99.88666666666667 90.65333333333334\n",
      "71.10333333333334 66.38333333333334\n",
      "162.83333333333334 139.99333333333334\n",
      "4264.11 285845.37333333335\n",
      "187.40333333333334 163.82333333333332\n",
      "302.38666666666666 200.88666666666666\n",
      "548.3366666666667 570.1233333333333\n",
      "84.64333333333333 78.13333333333334\n",
      "67.23 70.57666666666667\n",
      "10778.7 154865295.69333333\n",
      "213.42 208.38666666666666\n",
      "10649.796666666667 19766119.85\n",
      "15905.643333333333 66499442.03666667\n",
      "117.46666666666667 120.28333333333333\n",
      "23658.413333333334 1343989893.9566667\n",
      "91.93666666666667 94.54\n",
      "133.08666666666667 137.31333333333333\n",
      "104.18666666666667 97.92\n",
      "17473.18666666667 119880120.79666667\n",
      "147.73666666666668 138.30666666666667\n"
     ]
    }
   ],
   "source": [
    "for x,y in zip(mean_agressive, mean_no_restarts):\n",
    "    print(x, y)"
   ]
  },
  {
   "cell_type": "markdown",
   "metadata": {},
   "source": [
    "# Calculate speedup on two component mixtures"
   ]
  },
  {
   "cell_type": "code",
   "execution_count": 21,
   "metadata": {},
   "outputs": [],
   "source": [
    "from exp_mixture_model import EMM"
   ]
  },
  {
   "cell_type": "markdown",
   "metadata": {},
   "source": [
    "## Get data"
   ]
  },
  {
   "cell_type": "code",
   "execution_count": 22,
   "metadata": {},
   "outputs": [],
   "source": [
    "path_no_restarts = '../outputs/output_test/'\n",
    "names = []\n",
    "no_restarts = []\n",
    "for file in glob(path_no_restarts + \"*/*/*.result\", recursive=False):\n",
    "    name = file.replace(path_no_restarts, \"\")\n",
    "    name = name.split(\".cnf\")[0]\n",
    "    name = name + \".cnf\"\n",
    "    names.append(name)\n",
    "    \n",
    "    no_restarts.append(np.sort(np.loadtxt(file, usecols=0)))"
   ]
  },
  {
   "cell_type": "code",
   "execution_count": 23,
   "metadata": {},
   "outputs": [],
   "source": [
    "no_restarts_all_df = pd.DataFrame(no_restarts, index=names)"
   ]
  },
  {
   "cell_type": "markdown",
   "metadata": {},
   "source": [
    "## Filter instances with just one component; compute speedup on the rest"
   ]
  },
  {
   "cell_type": "code",
   "execution_count": 24,
   "metadata": {},
   "outputs": [
    {
     "name": "stdout",
     "output_type": "stream",
     "text": [
      "'x' contains 0, which has been removed.\n",
      "'x' contains 0, which has been removed.\n",
      "'x' contains 0, which has been removed.\n",
      "'x' contains 0, which has been removed.\n",
      "'x' contains 0, which has been removed.\n",
      "'x' contains 0, which has been removed.\n",
      "'x' contains 0, which has been removed.\n",
      "'x' contains 0, which has been removed.\n",
      "'x' contains 0, which has been removed.\n",
      "'x' contains 0, which has been removed.\n",
      "'x' contains 0, which has been removed.\n",
      "'x' contains 0, which has been removed.\n",
      "'x' contains 0, which has been removed.\n",
      "'x' contains 0, which has been removed.\n",
      "'x' contains 0, which has been removed.\n",
      "'x' contains 0, which has been removed.\n",
      "'x' contains 0, which has been removed.\n",
      "'x' contains 0, which has been removed.\n",
      "'x' contains 0, which has been removed.\n",
      "'x' contains 0, which has been removed.\n",
      "'x' contains 0, which has been removed.\n",
      "'x' contains 0, which has been removed.\n",
      "'x' contains 0, which has been removed.\n",
      "'x' contains 0, which has been removed.\n",
      "'x' contains 0, which has been removed.\n",
      "skipped instance komb/n100/gen_n100_m520_k3SAT_seed2037201861.cnf\n",
      "'x' contains 0, which has been removed.\n",
      "'x' contains 0, which has been removed.\n",
      "'x' contains 0, which has been removed.\n",
      "'x' contains 0, which has been removed.\n",
      "'x' contains 0, which has been removed.\n",
      "'x' contains 0, which has been removed.\n",
      "'x' contains 0, which has been removed.\n",
      "skipped instance komb/n100/gen_n100_m520_k3SAT_seed2234146747.cnf\n",
      "'x' contains 0, which has been removed.\n",
      "'x' contains 0, which has been removed.\n",
      "'x' contains 0, which has been removed.\n",
      "'x' contains 0, which has been removed.\n",
      "'x' contains 0, which has been removed.\n",
      "'x' contains 0, which has been removed.\n",
      "'x' contains 0, which has been removed.\n",
      "'x' contains 0, which has been removed.\n",
      "'x' contains 0, which has been removed.\n",
      "'x' contains 0, which has been removed.\n",
      "'x' contains 0, which has been removed.\n",
      "'x' contains 0, which has been removed.\n",
      "'x' contains 0, which has been removed.\n",
      "'x' contains 0, which has been removed.\n",
      "'x' contains 0, which has been removed.\n",
      "skipped instance komb/n100/gen_n100_m520_k3SAT_seed1750902960.cnf\n",
      "'x' contains 0, which has been removed.\n",
      "'x' contains 0, which has been removed.\n",
      "'x' contains 0, which has been removed.\n",
      "'x' contains 0, which has been removed.\n",
      "skipped instance komb/n100/gen_n100_m520_k3SAT_seed3259984553.cnf\n",
      "'x' contains 0, which has been removed.\n",
      "'x' contains 0, which has been removed.\n",
      "skipped instance komb/n100/gen_n100_m520_k3SAT_seed4063259979.cnf\n",
      "'x' contains 0, which has been removed.\n",
      "'x' contains 0, which has been removed.\n",
      "'x' contains 0, which has been removed.\n",
      "'x' contains 0, which has been removed.\n",
      "skipped instance komb/n100/gen_n100_m520_k3SAT_seed2964305951.cnf\n",
      "'x' contains 0, which has been removed.\n",
      "'x' contains 0, which has been removed.\n",
      "'x' contains 0, which has been removed.\n",
      "'x' contains 0, which has been removed.\n",
      "'x' contains 0, which has been removed.\n",
      "'x' contains 0, which has been removed.\n",
      "skipped instance komb/n100/gen_n100_m520_k3SAT_seed3130779739.cnf\n",
      "'x' contains 0, which has been removed.\n",
      "'x' contains 0, which has been removed.\n",
      "'x' contains 0, which has been removed.\n",
      "'x' contains 0, which has been removed.\n",
      "'x' contains 0, which has been removed.\n",
      "'x' contains 0, which has been removed.\n",
      "skipped instance komb/n100/gen_n100_m520_k3SAT_seed3567061698.cnf\n",
      "'x' contains 0, which has been removed.\n",
      "'x' contains 0, which has been removed.\n",
      "'x' contains 0, which has been removed.\n",
      "'x' contains 0, which has been removed.\n",
      "'x' contains 0, which has been removed.\n",
      "'x' contains 0, which has been removed.\n",
      "'x' contains 0, which has been removed.\n",
      "'x' contains 0, which has been removed.\n",
      "'x' contains 0, which has been removed.\n",
      "'x' contains 0, which has been removed.\n",
      "'x' contains 0, which has been removed.\n",
      "'x' contains 0, which has been removed.\n",
      "'x' contains 0, which has been removed.\n",
      "'x' contains 0, which has been removed.\n",
      "'x' contains 0, which has been removed.\n",
      "'x' contains 0, which has been removed.\n",
      "skipped instance komb/n100/gen_n100_m520_k3SAT_seed4258899854.cnf\n",
      "'x' contains 0, which has been removed.\n",
      "'x' contains 0, which has been removed.\n",
      "'x' contains 0, which has been removed.\n",
      "skipped instance komb/n100/gen_n100_m520_k3SAT_seed488470608.cnf\n",
      "'x' contains 0, which has been removed.\n",
      "'x' contains 0, which has been removed.\n",
      "'x' contains 0, which has been removed.\n",
      "'x' contains 0, which has been removed.\n",
      "'x' contains 0, which has been removed.\n",
      "skipped instance komb/n100/gen_n100_m520_k3SAT_seed679892266.cnf\n",
      "'x' contains 0, which has been removed.\n",
      "'x' contains 0, which has been removed.\n",
      "'x' contains 0, which has been removed.\n",
      "'x' contains 0, which has been removed.\n",
      "'x' contains 0, which has been removed.\n",
      "'x' contains 0, which has been removed.\n",
      "'x' contains 0, which has been removed.\n",
      "'x' contains 0, which has been removed.\n",
      "skipped instance qhid/n50/gen_n50_m275_k3SAT_seed100859405.cnf\n",
      "'x' contains 0, which has been removed.\n",
      "skipped instance qhid/n50/gen_n50_m275_k3SAT_seed1016761846.cnf\n",
      "'x' contains 0, which has been removed.\n",
      "'x' contains 0, which has been removed.\n",
      "'x' contains 0, which has been removed.\n",
      "skipped instance qhid/n50/gen_n50_m275_k3SAT_seed1147333629.cnf\n",
      "'x' contains 0, which has been removed.\n",
      "skipped instance qhid/n50/gen_n50_m275_k3SAT_seed1207677877.cnf\n",
      "'x' contains 0, which has been removed.\n",
      "skipped instance qhid/n50/gen_n50_m275_k3SAT_seed1250600340.cnf\n",
      "'x' contains 0, which has been removed.\n",
      "'x' contains 0, which has been removed.\n",
      "'x' contains 0, which has been removed.\n",
      "'x' contains 0, which has been removed.\n",
      "skipped instance qhid/n50/gen_n50_m275_k3SAT_seed1467417503.cnf\n",
      "'x' contains 0, which has been removed.\n",
      "'x' contains 0, which has been removed.\n",
      "'x' contains 0, which has been removed.\n",
      "'x' contains 0, which has been removed.\n",
      "skipped instance qhid/n50/gen_n50_m275_k3SAT_seed848987668.cnf\n",
      "'x' contains 0, which has been removed.\n",
      "'x' contains 0, which has been removed.\n",
      "skipped instance qhid/n50/gen_n50_m275_k3SAT_seed872106832.cnf\n",
      "'x' contains 0, which has been removed.\n",
      "skipped instance qhid/n50/gen_n50_m275_k3SAT_seed880297004.cnf\n",
      "'x' contains 0, which has been removed.\n",
      "'x' contains 0, which has been removed.\n",
      "'x' contains 0, which has been removed.\n",
      "'x' contains 0, which has been removed.\n",
      "skipped instance qhid/n50/gen_n50_m275_k3SAT_seed4256242090.cnf\n",
      "'x' contains 0, which has been removed.\n",
      "skipped instance qhid/n50/gen_n50_m275_k3SAT_seed436666886.cnf\n",
      "'x' contains 0, which has been removed.\n",
      "skipped instance qhid/n50/gen_n50_m275_k3SAT_seed476516010.cnf\n",
      "'x' contains 0, which has been removed.\n",
      "skipped instance qhid/n50/gen_n50_m275_k3SAT_seed481235067.cnf\n",
      "'x' contains 0, which has been removed.\n",
      "'x' contains 0, which has been removed.\n",
      "'x' contains 0, which has been removed.\n",
      "skipped instance qhid/n50/gen_n50_m275_k3SAT_seed595022251.cnf\n",
      "'x' contains 0, which has been removed.\n",
      "skipped instance qhid/n50/gen_n50_m275_k3SAT_seed597613883.cnf\n",
      "'x' contains 0, which has been removed.\n",
      "'x' contains 0, which has been removed.\n",
      "skipped instance qhid/n50/gen_n50_m275_k3SAT_seed1824181490.cnf\n",
      "'x' contains 0, which has been removed.\n",
      "'x' contains 0, which has been removed.\n",
      "'x' contains 0, which has been removed.\n",
      "skipped instance qhid/n50/gen_n50_m275_k3SAT_seed3204454542.cnf\n",
      "'x' contains 0, which has been removed.\n",
      "skipped instance qhid/n50/gen_n50_m275_k3SAT_seed3653864484.cnf\n",
      "'x' contains 0, which has been removed.\n",
      "skipped instance qhid/n50/gen_n50_m275_k3SAT_seed3845299023.cnf\n",
      "'x' contains 0, which has been removed.\n",
      "'x' contains 0, which has been removed.\n",
      "skipped instance qhid/n50/gen_n50_m275_k3SAT_seed674984871.cnf\n",
      "'x' contains 0, which has been removed.\n",
      "skipped instance qhid/n50/gen_n50_m275_k3SAT_seed3847486290.cnf\n",
      "'x' contains 0, which has been removed.\n",
      "skipped instance qhid/n50/gen_n50_m275_k3SAT_seed3858160414.cnf\n",
      "'x' contains 0, which has been removed.\n",
      "skipped instance qhid/n50/gen_n50_m275_k3SAT_seed3893003984.cnf\n",
      "'x' contains 0, which has been removed.\n",
      "skipped instance qhid/n50/gen_n50_m275_k3SAT_seed3914344193.cnf\n",
      "'x' contains 0, which has been removed.\n",
      "'x' contains 0, which has been removed.\n",
      "'x' contains 0, which has been removed.\n",
      "skipped instance qhid/n50/gen_n50_m275_k3SAT_seed4021746687.cnf\n",
      "'x' contains 0, which has been removed.\n",
      "'x' contains 0, which has been removed.\n"
     ]
    },
    {
     "name": "stdout",
     "output_type": "stream",
     "text": [
      "skipped instance qhid/n50/gen_n50_m275_k3SAT_seed3660155615.cnf\n",
      "'x' contains 0, which has been removed.\n",
      "skipped instance qhid/n50/gen_n50_m275_k3SAT_seed3721854806.cnf\n",
      "'x' contains 0, which has been removed.\n",
      "'x' contains 0, which has been removed.\n",
      "'x' contains 0, which has been removed.\n",
      "'x' contains 0, which has been removed.\n",
      "'x' contains 0, which has been removed.\n",
      "'x' contains 0, which has been removed.\n",
      "'x' contains 0, which has been removed.\n",
      "skipped instance qhid/n50/gen_n50_m275_k3SAT_seed3833151894.cnf\n",
      "'x' contains 0, which has been removed.\n",
      "'x' contains 0, which has been removed.\n",
      "skipped instance qhid/n50/gen_n50_m275_k3SAT_seed3318206855.cnf\n",
      "'x' contains 0, which has been removed.\n",
      "skipped instance qhid/n50/gen_n50_m275_k3SAT_seed3325204331.cnf\n",
      "'x' contains 0, which has been removed.\n",
      "skipped instance qhid/n50/gen_n50_m275_k3SAT_seed3391284424.cnf\n",
      "'x' contains 0, which has been removed.\n",
      "'x' contains 0, which has been removed.\n",
      "skipped instance qhid/n50/gen_n50_m275_k3SAT_seed347096280.cnf\n",
      "'x' contains 0, which has been removed.\n",
      "skipped instance qhid/n50/gen_n50_m275_k3SAT_seed3476821990.cnf\n",
      "'x' contains 0, which has been removed.\n",
      "skipped instance qhid/n50/gen_n50_m275_k3SAT_seed35444480.cnf\n",
      "'x' contains 0, which has been removed.\n",
      "'x' contains 0, which has been removed.\n",
      "skipped instance qhid/n50/gen_n50_m275_k3SAT_seed2906162015.cnf\n",
      "'x' contains 0, which has been removed.\n",
      "skipped instance qhid/n50/gen_n50_m275_k3SAT_seed2956830466.cnf\n",
      "'x' contains 0, which has been removed.\n",
      "'x' contains 0, which has been removed.\n",
      "'x' contains 0, which has been removed.\n",
      "'x' contains 0, which has been removed.\n",
      "skipped instance qhid/n50/gen_n50_m275_k3SAT_seed3114132054.cnf\n",
      "'x' contains 0, which has been removed.\n",
      "skipped instance qhid/n50/gen_n50_m275_k3SAT_seed3116885046.cnf\n",
      "'x' contains 0, which has been removed.\n",
      "skipped instance qhid/n50/gen_n50_m275_k3SAT_seed3127561837.cnf\n",
      "'x' contains 0, which has been removed.\n",
      "'x' contains 0, which has been removed.\n",
      "skipped instance qhid/n50/gen_n50_m275_k3SAT_seed2380573512.cnf\n",
      "'x' contains 0, which has been removed.\n",
      "skipped instance qhid/n50/gen_n50_m275_k3SAT_seed2485498851.cnf\n",
      "'x' contains 0, which has been removed.\n",
      "skipped instance qhid/n50/gen_n50_m275_k3SAT_seed2535870939.cnf\n",
      "'x' contains 0, which has been removed.\n",
      "skipped instance qhid/n50/gen_n50_m275_k3SAT_seed2563432516.cnf\n",
      "'x' contains 0, which has been removed.\n",
      "'x' contains 0, which has been removed.\n",
      "skipped instance qhid/n50/gen_n50_m275_k3SAT_seed2633739375.cnf\n",
      "'x' contains 0, which has been removed.\n",
      "skipped instance qhid/n50/gen_n50_m275_k3SAT_seed2648491769.cnf\n",
      "'x' contains 0, which has been removed.\n",
      "skipped instance qhid/n50/gen_n50_m275_k3SAT_seed271989856.cnf\n",
      "'x' contains 0, which has been removed.\n",
      "skipped instance qhid/n50/gen_n50_m275_k3SAT_seed27638353.cnf\n",
      "'x' contains 0, which has been removed.\n",
      "skipped instance qhid/n50/gen_n50_m275_k3SAT_seed185519911.cnf\n",
      "'x' contains 0, which has been removed.\n",
      "'x' contains 0, which has been removed.\n",
      "skipped instance qhid/n50/gen_n50_m275_k3SAT_seed1988601455.cnf\n",
      "'x' contains 0, which has been removed.\n",
      "skipped instance qhid/n50/gen_n50_m275_k3SAT_seed1991668818.cnf\n",
      "'x' contains 0, which has been removed.\n",
      "'x' contains 0, which has been removed.\n",
      "skipped instance qhid/n50/gen_n50_m275_k3SAT_seed2159432583.cnf\n",
      "'x' contains 0, which has been removed.\n",
      "skipped instance qhid/n50/gen_n50_m275_k3SAT_seed2174409020.cnf\n",
      "'x' contains 0, which has been removed.\n",
      "'x' contains 0, which has been removed.\n",
      "skipped instance qhid/n50/gen_n50_m275_k3SAT_seed22641346.cnf\n",
      "'x' contains 0, which has been removed.\n",
      "'x' contains 0, which has been removed.\n",
      "'x' contains 0, which has been removed.\n",
      "skipped instance qhid/n50/gen_n50_m275_k3SAT_seed1647827943.cnf\n",
      "'x' contains 0, which has been removed.\n",
      "'x' contains 0, which has been removed.\n",
      "skipped instance qhid/n50/gen_n50_m275_k3SAT_seed1703138837.cnf\n",
      "'x' contains 0, which has been removed.\n",
      "skipped instance qhid/n50/gen_n50_m275_k3SAT_seed175645968.cnf\n",
      "'x' contains 0, which has been removed.\n",
      "skipped instance qhid/n50/gen_n50_m275_k3SAT_seed1766037702.cnf\n",
      "'x' contains 0, which has been removed.\n",
      "'x' contains 0, which has been removed.\n",
      "skipped instance qhid/n50/gen_n50_m275_k3SAT_seed1814995992.cnf\n",
      "[207.1881102031156, 4.351890571230009, 19.24089486530314, 19.019608805429225, 251.56915719376954, 243978.2585741634, 49.81351421661981, 76939.8660108266, 5.129040683142155, 244.22763649831342, 1416.120388729598, 3300.436337592708, 204.2640347594925, 2.202361754469685, 5.4397386219007755, 8.950996422981714, 899.5400905609289, 25.25234286561728, 1680.5974902600205, 949.2359321532059, 231.803103246974, 101.61852365116299, 167.03334044348995, 59617.76724069031, 1.8813921227287562, 19.49554278333974, 202.07239611795322, 7.016754230390063, 637.8179909218874, 366.95870729125414, 4.4412204776118935, 391.52882421105005, 1386.505976787313, 15.207429847470882, 2.831084474876964, 8.257299241945812, 236.53666921867398, 2970.7934731424175, 507.86997619146064, 11.75483269688883, 1.0749589050429686, 20.581589044491228, 28.83285029136583, 3.179884730095158, 3.7299392928909736, 117.80472107943929, 39.231121683032256, 71.1276398663355, 1161.7451568167237, 67.87538410544659, 291.00510166181664, 734.6447356821867, 28.330685392669103, 412.27760636319874, 192.49765294230707, 839.1977762807063, 19.73925544485723, 99.69197992362584, 7812.934863053344, 250.92202887125248, 5.649802249482058, 85.86136025063975, 56.287100088795185, 4.960669889017227, 2344.8181428796943, 100.91928013018332, 365.40443944336806, 88.52600292497087, 35.51932278772114, 3.814360444270768, 12.655194509111722, 13299.443407078043, 3462.3302372754556, 17.525772692185516, 206178.86770706094, 4048.984593935718, 371.65298294634067, 9.907994423963359, 166.97043647903303, 7571.476999284999, 88.53272299397695, 484.9365180221895, 427.0872771096691, 1.0001955316365532, 1234.133839273507, 384.4149798254414, 70.51289086743364, 134.69378847797995, 3668.687528513403, 6355.987568946347, 179.0183435589828, 3441.8759449177223, 18654.678244974064, 56.840267158838884, 5108.851927073425, 886.1970471663273, 3964.172003412742, 275.79680698289786, 233.26955346953136, 814.1712597778114, 807.8640264571529, 12682.269720109081, 225.3415836508296, 6210.25730665354, 1.192670738478623, 637.3692178254031, 32735.28887842185, 225841.40614566903, 1573.2634572648508, 69339.78941153345, 65.6361994899629, 66039.05208852627, 3526.052530569012, 0.862668550616953, 1307.209398918065, 8341.09591898054, 23843.914930674233, 338.53578899845036, 28417.47311757749, 901.8765157343038, 174351.33820644981, 51.42364215914744, 32319.015202603445, 47334.07653864221, 67.0351781106335, 1.0397322812627279, 14367.715558771773, 1856.009130377763, 4180.870942661231, 56808.11620883564, 6860.804676536773]\n"
     ]
    }
   ],
   "source": [
    "speedups = []\n",
    "for index, row in no_restarts_all_df.iterrows():\n",
    "    model = EMM(k=2)\n",
    "    pi, mu = model.fit(row)\n",
    "    if pi[0] < 1.0:\n",
    "        temp = df.loc[index] \n",
    "        speedups.append(temp['no_restarts']/temp['agressive'])\n",
    "    else:\n",
    "        print(f\"skipped instance {index}\")\n",
    "        \n",
    "print(speedups)"
   ]
  },
  {
   "cell_type": "code",
   "execution_count": 25,
   "metadata": {},
   "outputs": [
    {
     "data": {
      "text/plain": [
       "307.5039550982809"
      ]
     },
     "execution_count": 25,
     "metadata": {},
     "output_type": "execute_result"
    }
   ],
   "source": [
    "gmean(speedups)"
   ]
  },
  {
   "cell_type": "code",
   "execution_count": 26,
   "metadata": {},
   "outputs": [
    {
     "data": {
      "text/plain": [
       "131"
      ]
     },
     "execution_count": 26,
     "metadata": {},
     "output_type": "execute_result"
    }
   ],
   "source": [
    "len(speedups)"
   ]
  },
  {
   "cell_type": "code",
   "execution_count": 27,
   "metadata": {},
   "outputs": [
    {
     "data": {
      "text/plain": [
       "array([8.62668551e-01, 1.00019553e+00, 1.03973228e+00, 1.07495891e+00,\n",
       "       1.19267074e+00, 1.88139212e+00, 2.20236175e+00, 2.83108447e+00,\n",
       "       3.17988473e+00, 3.72993929e+00, 3.81436044e+00, 4.35189057e+00,\n",
       "       4.44122048e+00, 4.96066989e+00, 5.12904068e+00, 5.43973862e+00,\n",
       "       5.64980225e+00, 7.01675423e+00, 8.25729924e+00, 8.95099642e+00,\n",
       "       9.90799442e+00, 1.17548327e+01, 1.26551945e+01, 1.52074298e+01,\n",
       "       1.75257727e+01, 1.90196088e+01, 1.92408949e+01, 1.94955428e+01,\n",
       "       1.97392554e+01, 2.05815890e+01, 2.52523429e+01, 2.83306854e+01,\n",
       "       2.88328503e+01, 3.55193228e+01, 3.92311217e+01, 4.98135142e+01,\n",
       "       5.14236422e+01, 5.62871001e+01, 5.68402672e+01, 6.56361995e+01,\n",
       "       6.70351781e+01, 6.78753841e+01, 7.05128909e+01, 7.11276399e+01,\n",
       "       8.58613603e+01, 8.85260029e+01, 8.85327230e+01, 9.96919799e+01,\n",
       "       1.00919280e+02, 1.01618524e+02, 1.17804721e+02, 1.34693788e+02,\n",
       "       1.66970436e+02, 1.67033340e+02, 1.79018344e+02, 1.92497653e+02,\n",
       "       2.02072396e+02, 2.04264035e+02, 2.07188110e+02, 2.25341584e+02,\n",
       "       2.31803103e+02, 2.33269553e+02, 2.36536669e+02, 2.44227636e+02,\n",
       "       2.50922029e+02, 2.51569157e+02, 2.75796807e+02, 2.91005102e+02,\n",
       "       3.38535789e+02, 3.65404439e+02, 3.66958707e+02, 3.71652983e+02,\n",
       "       3.84414980e+02, 3.91528824e+02, 4.12277606e+02, 4.27087277e+02,\n",
       "       4.84936518e+02, 5.07869976e+02, 6.37369218e+02, 6.37817991e+02,\n",
       "       7.34644736e+02, 8.07864026e+02, 8.14171260e+02, 8.39197776e+02,\n",
       "       8.86197047e+02, 8.99540091e+02, 9.01876516e+02, 9.49235932e+02,\n",
       "       1.16174516e+03, 1.23413384e+03, 1.30720940e+03, 1.38650598e+03,\n",
       "       1.41612039e+03, 1.57326346e+03, 1.68059749e+03, 1.85600913e+03,\n",
       "       2.34481814e+03, 2.97079347e+03, 3.30043634e+03, 3.44187594e+03,\n",
       "       3.46233024e+03, 3.52605253e+03, 3.66868753e+03, 3.96417200e+03,\n",
       "       4.04898459e+03, 4.18087094e+03, 5.10885193e+03, 6.21025731e+03,\n",
       "       6.35598757e+03, 6.86080468e+03, 7.57147700e+03, 7.81293486e+03,\n",
       "       8.34109592e+03, 1.26822697e+04, 1.32994434e+04, 1.43677156e+04,\n",
       "       1.86546782e+04, 2.38439149e+04, 2.84174731e+04, 3.23190152e+04,\n",
       "       3.27352889e+04, 4.73340765e+04, 5.68081162e+04, 5.96177672e+04,\n",
       "       6.60390521e+04, 6.93397894e+04, 7.69398660e+04, 1.74351338e+05,\n",
       "       2.06178868e+05, 2.25841406e+05, 2.43978259e+05])"
      ]
     },
     "execution_count": 27,
     "metadata": {},
     "output_type": "execute_result"
    }
   ],
   "source": [
    "np.sort(speedups)"
   ]
  },
  {
   "cell_type": "code",
   "execution_count": null,
   "metadata": {},
   "outputs": [],
   "source": []
  }
 ],
 "metadata": {
  "kernelspec": {
   "display_name": "Python 3",
   "language": "python",
   "name": "python3"
  },
  "language_info": {
   "codemirror_mode": {
    "name": "ipython",
    "version": 3
   },
   "file_extension": ".py",
   "mimetype": "text/x-python",
   "name": "python",
   "nbconvert_exporter": "python",
   "pygments_lexer": "ipython3",
   "version": "3.8.5"
  }
 },
 "nbformat": 4,
 "nbformat_minor": 4
}

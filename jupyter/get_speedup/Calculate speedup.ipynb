{
 "cells": [
  {
   "cell_type": "code",
   "execution_count": 2,
   "metadata": {},
   "outputs": [],
   "source": [
    "import pandas as pd\n",
    "import numpy as np\n",
    "\n",
    "from scipy.stats import gmean\n",
    "from scipy.optimize import root_scalar\n",
    "\n",
    "from expon_mixture import ExponMixture "
   ]
  },
  {
   "cell_type": "code",
   "execution_count": 3,
   "metadata": {},
   "outputs": [],
   "source": [
    "df = pd.read_csv(\"all_data.csv\", index_col=0)"
   ]
  },
  {
   "cell_type": "code",
   "execution_count": 7,
   "metadata": {},
   "outputs": [],
   "source": [
    "names = []\n",
    "data = []\n",
    "# Iterate over all rows\n",
    "for index, row in df.iterrows():\n",
    "    mean = np.mean(row[1:]) # For the computation of the speedup, the mean is needed\n",
    "    cumsum = 0.0 # This is used for the conditional expectation\n",
    "    current_min_exp = np.inf\n",
    "    optimal_t = 0.0\n",
    "    for i in range(1, 301): # The first column is the instance type. This is irrelevant here.\n",
    "        t = row[i] \n",
    "        cumsum += float(t) # Updata the partial expectation\n",
    "        ecdf = i/300.0 # We measured 300 runs\n",
    "        geom_part = (1.0 - ecdf)/ecdf * t # This part describes the geometric part of the expectation with restarts\n",
    "        cond_exp = cumsum / i # partial expectation -> conditional expectation\n",
    "        if geom_part + cond_exp < current_min_exp: # Update the best restart time if necessary.\n",
    "            current_min_exp = geom_part + cond_exp\n",
    "            optimal_t = t\n",
    "    names.append(index)\n",
    "    data.append([row[0], mean, current_min_exp, mean/current_min_exp, optimal_t])\n",
    "\n",
    "optimal_df = pd.DataFrame(data, index=names, columns=[\"type\", \"expectation no restarts\" ,\"expectation with best restarts\", \"speedup\", \"best restart time\"])"
   ]
  },
  {
   "cell_type": "code",
   "execution_count": 8,
   "metadata": {},
   "outputs": [
    {
     "data": {
      "text/html": [
       "<div>\n",
       "<style scoped>\n",
       "    .dataframe tbody tr th:only-of-type {\n",
       "        vertical-align: middle;\n",
       "    }\n",
       "\n",
       "    .dataframe tbody tr th {\n",
       "        vertical-align: top;\n",
       "    }\n",
       "\n",
       "    .dataframe thead th {\n",
       "        text-align: right;\n",
       "    }\n",
       "</style>\n",
       "<table border=\"1\" class=\"dataframe\">\n",
       "  <thead>\n",
       "    <tr style=\"text-align: right;\">\n",
       "      <th></th>\n",
       "      <th>type</th>\n",
       "      <th>expectation no restarts</th>\n",
       "      <th>expectation with best restarts</th>\n",
       "      <th>speedup</th>\n",
       "      <th>best restart time</th>\n",
       "    </tr>\n",
       "  </thead>\n",
       "  <tbody>\n",
       "    <tr>\n",
       "      <th>gen_n210_m903_k3SAT_seed2473397791.cnf</th>\n",
       "      <td>barthel</td>\n",
       "      <td>3.214107e+03</td>\n",
       "      <td>3.214107e+03</td>\n",
       "      <td>1.000000</td>\n",
       "      <td>1.293200e+04</td>\n",
       "    </tr>\n",
       "    <tr>\n",
       "      <th>gen_n210_m903_k3SAT_seed862748622.cnf</th>\n",
       "      <td>barthel</td>\n",
       "      <td>1.342518e+04</td>\n",
       "      <td>1.308250e+04</td>\n",
       "      <td>1.026194</td>\n",
       "      <td>1.180100e+04</td>\n",
       "    </tr>\n",
       "    <tr>\n",
       "      <th>gen_n210_m903_k3SAT_seed4006075830.cnf</th>\n",
       "      <td>barthel</td>\n",
       "      <td>1.295157e+03</td>\n",
       "      <td>1.293375e+03</td>\n",
       "      <td>1.001378</td>\n",
       "      <td>5.594000e+03</td>\n",
       "    </tr>\n",
       "    <tr>\n",
       "      <th>gen_n210_m903_k3SAT_seed1547818438.cnf</th>\n",
       "      <td>barthel</td>\n",
       "      <td>1.365623e+03</td>\n",
       "      <td>1.363372e+03</td>\n",
       "      <td>1.001652</td>\n",
       "      <td>4.191000e+03</td>\n",
       "    </tr>\n",
       "    <tr>\n",
       "      <th>gen_n210_m903_k3SAT_seed3919912883.cnf</th>\n",
       "      <td>barthel</td>\n",
       "      <td>1.511253e+03</td>\n",
       "      <td>1.500828e+03</td>\n",
       "      <td>1.006947</td>\n",
       "      <td>4.381000e+03</td>\n",
       "    </tr>\n",
       "    <tr>\n",
       "      <th>...</th>\n",
       "      <td>...</td>\n",
       "      <td>...</td>\n",
       "      <td>...</td>\n",
       "      <td>...</td>\n",
       "      <td>...</td>\n",
       "    </tr>\n",
       "    <tr>\n",
       "      <th>gen_n70_m385_k3SAT_seed2030441879.cnf</th>\n",
       "      <td>qhid</td>\n",
       "      <td>3.993567e+02</td>\n",
       "      <td>3.990936e+02</td>\n",
       "      <td>1.000659</td>\n",
       "      <td>1.710000e+03</td>\n",
       "    </tr>\n",
       "    <tr>\n",
       "      <th>gen_n70_m385_k3SAT_seed3717411169.cnf</th>\n",
       "      <td>qhid</td>\n",
       "      <td>2.097433e+02</td>\n",
       "      <td>2.097433e+02</td>\n",
       "      <td>1.000000</td>\n",
       "      <td>8.900000e+02</td>\n",
       "    </tr>\n",
       "    <tr>\n",
       "      <th>gen_n70_m385_k3SAT_seed684617509.cnf</th>\n",
       "      <td>qhid</td>\n",
       "      <td>2.370867e+02</td>\n",
       "      <td>2.305567e+02</td>\n",
       "      <td>1.028322</td>\n",
       "      <td>5.280000e+02</td>\n",
       "    </tr>\n",
       "    <tr>\n",
       "      <th>gen_n70_m385_k3SAT_seed1293934752.cnf</th>\n",
       "      <td>qhid</td>\n",
       "      <td>1.008646e+11</td>\n",
       "      <td>8.186059e+10</td>\n",
       "      <td>1.232151</td>\n",
       "      <td>4.239737e+10</td>\n",
       "    </tr>\n",
       "    <tr>\n",
       "      <th>gen_n70_m385_k3SAT_seed2538753387.cnf</th>\n",
       "      <td>qhid</td>\n",
       "      <td>1.949727e+07</td>\n",
       "      <td>1.857800e+04</td>\n",
       "      <td>1049.481649</td>\n",
       "      <td>1.240000e+02</td>\n",
       "    </tr>\n",
       "  </tbody>\n",
       "</table>\n",
       "<p>300 rows × 5 columns</p>\n",
       "</div>"
      ],
      "text/plain": [
       "                                           type  expectation no restarts  \\\n",
       "gen_n210_m903_k3SAT_seed2473397791.cnf  barthel             3.214107e+03   \n",
       "gen_n210_m903_k3SAT_seed862748622.cnf   barthel             1.342518e+04   \n",
       "gen_n210_m903_k3SAT_seed4006075830.cnf  barthel             1.295157e+03   \n",
       "gen_n210_m903_k3SAT_seed1547818438.cnf  barthel             1.365623e+03   \n",
       "gen_n210_m903_k3SAT_seed3919912883.cnf  barthel             1.511253e+03   \n",
       "...                                         ...                      ...   \n",
       "gen_n70_m385_k3SAT_seed2030441879.cnf      qhid             3.993567e+02   \n",
       "gen_n70_m385_k3SAT_seed3717411169.cnf      qhid             2.097433e+02   \n",
       "gen_n70_m385_k3SAT_seed684617509.cnf       qhid             2.370867e+02   \n",
       "gen_n70_m385_k3SAT_seed1293934752.cnf      qhid             1.008646e+11   \n",
       "gen_n70_m385_k3SAT_seed2538753387.cnf      qhid             1.949727e+07   \n",
       "\n",
       "                                        expectation with best restarts  \\\n",
       "gen_n210_m903_k3SAT_seed2473397791.cnf                    3.214107e+03   \n",
       "gen_n210_m903_k3SAT_seed862748622.cnf                     1.308250e+04   \n",
       "gen_n210_m903_k3SAT_seed4006075830.cnf                    1.293375e+03   \n",
       "gen_n210_m903_k3SAT_seed1547818438.cnf                    1.363372e+03   \n",
       "gen_n210_m903_k3SAT_seed3919912883.cnf                    1.500828e+03   \n",
       "...                                                                ...   \n",
       "gen_n70_m385_k3SAT_seed2030441879.cnf                     3.990936e+02   \n",
       "gen_n70_m385_k3SAT_seed3717411169.cnf                     2.097433e+02   \n",
       "gen_n70_m385_k3SAT_seed684617509.cnf                      2.305567e+02   \n",
       "gen_n70_m385_k3SAT_seed1293934752.cnf                     8.186059e+10   \n",
       "gen_n70_m385_k3SAT_seed2538753387.cnf                     1.857800e+04   \n",
       "\n",
       "                                            speedup  best restart time  \n",
       "gen_n210_m903_k3SAT_seed2473397791.cnf     1.000000       1.293200e+04  \n",
       "gen_n210_m903_k3SAT_seed862748622.cnf      1.026194       1.180100e+04  \n",
       "gen_n210_m903_k3SAT_seed4006075830.cnf     1.001378       5.594000e+03  \n",
       "gen_n210_m903_k3SAT_seed1547818438.cnf     1.001652       4.191000e+03  \n",
       "gen_n210_m903_k3SAT_seed3919912883.cnf     1.006947       4.381000e+03  \n",
       "...                                             ...                ...  \n",
       "gen_n70_m385_k3SAT_seed2030441879.cnf      1.000659       1.710000e+03  \n",
       "gen_n70_m385_k3SAT_seed3717411169.cnf      1.000000       8.900000e+02  \n",
       "gen_n70_m385_k3SAT_seed684617509.cnf       1.028322       5.280000e+02  \n",
       "gen_n70_m385_k3SAT_seed1293934752.cnf      1.232151       4.239737e+10  \n",
       "gen_n70_m385_k3SAT_seed2538753387.cnf   1049.481649       1.240000e+02  \n",
       "\n",
       "[300 rows x 5 columns]"
      ]
     },
     "execution_count": 8,
     "metadata": {},
     "output_type": "execute_result"
    }
   ],
   "source": [
    "optimal_df"
   ]
  },
  {
   "cell_type": "markdown",
   "metadata": {},
   "source": [
    "# Calculate the average speedup over all instances"
   ]
  },
  {
   "cell_type": "code",
   "execution_count": 9,
   "metadata": {},
   "outputs": [
    {
     "data": {
      "text/plain": [
       "18.19553445091588"
      ]
     },
     "execution_count": 9,
     "metadata": {},
     "output_type": "execute_result"
    }
   ],
   "source": [
    "gmean(optimal_df['speedup'])"
   ]
  },
  {
   "cell_type": "markdown",
   "metadata": {},
   "source": [
    "# Calculate the average speedup over the barthel instances"
   ]
  },
  {
   "cell_type": "code",
   "execution_count": 10,
   "metadata": {},
   "outputs": [
    {
     "data": {
      "text/plain": [
       "1.0984796379053687"
      ]
     },
     "execution_count": 10,
     "metadata": {},
     "output_type": "execute_result"
    }
   ],
   "source": [
    "df1 = optimal_df[optimal_df['type'] == 'barthel']\n",
    "gmean(df1['speedup'])"
   ]
  },
  {
   "cell_type": "markdown",
   "metadata": {},
   "source": [
    "# Calculate the average speedup over the komb instances"
   ]
  },
  {
   "cell_type": "code",
   "execution_count": 11,
   "metadata": {},
   "outputs": [
    {
     "data": {
      "text/plain": [
       "156.9581117219696"
      ]
     },
     "execution_count": 11,
     "metadata": {},
     "output_type": "execute_result"
    }
   ],
   "source": [
    "df1 = optimal_df[optimal_df['type'] == 'komb']\n",
    "gmean(df1['speedup'])"
   ]
  },
  {
   "cell_type": "markdown",
   "metadata": {},
   "source": [
    "# Calculate the average speedup over the qhid instances"
   ]
  },
  {
   "cell_type": "code",
   "execution_count": 12,
   "metadata": {},
   "outputs": [
    {
     "data": {
      "text/plain": [
       "34.93965989136677"
      ]
     },
     "execution_count": 12,
     "metadata": {},
     "output_type": "execute_result"
    }
   ],
   "source": [
    "df1 = optimal_df[optimal_df['type'] == 'qhid']\n",
    "gmean(df1['speedup'])"
   ]
  },
  {
   "cell_type": "code",
   "execution_count": null,
   "metadata": {},
   "outputs": [],
   "source": []
  },
  {
   "cell_type": "markdown",
   "metadata": {},
   "source": [
    "# Calculate the average speedup over the qhid and komb instances"
   ]
  },
  {
   "cell_type": "code",
   "execution_count": 13,
   "metadata": {},
   "outputs": [
    {
     "data": {
      "text/plain": [
       "74.05445996533072"
      ]
     },
     "execution_count": 13,
     "metadata": {},
     "output_type": "execute_result"
    }
   ],
   "source": [
    "df1 = optimal_df[(optimal_df['type'] == 'qhid') | (optimal_df['type'] == 'komb')]\n",
    "gmean(df1['speedup'])"
   ]
  },
  {
   "cell_type": "code",
   "execution_count": null,
   "metadata": {},
   "outputs": [],
   "source": []
  },
  {
   "cell_type": "code",
   "execution_count": null,
   "metadata": {},
   "outputs": [],
   "source": []
  },
  {
   "cell_type": "markdown",
   "metadata": {},
   "source": [
    "# Calculate the average speedup on instances with two components"
   ]
  },
  {
   "cell_type": "code",
   "execution_count": 14,
   "metadata": {},
   "outputs": [],
   "source": [
    "fits = pd.read_csv('../fits/expon_mix_2comp_fits_mod_name.txt', index_col=0)"
   ]
  },
  {
   "cell_type": "code",
   "execution_count": 15,
   "metadata": {},
   "outputs": [
    {
     "data": {
      "text/plain": [
       "228.97264635150276"
      ]
     },
     "execution_count": 15,
     "metadata": {},
     "output_type": "execute_result"
    }
   ],
   "source": [
    "df1 = optimal_df[fits['p1']<1.0]\n",
    "gmean(df1['speedup'])"
   ]
  },
  {
   "cell_type": "code",
   "execution_count": null,
   "metadata": {},
   "outputs": [],
   "source": []
  },
  {
   "cell_type": "code",
   "execution_count": null,
   "metadata": {},
   "outputs": [],
   "source": []
  },
  {
   "cell_type": "markdown",
   "metadata": {},
   "source": [
    "## Add the number of variables to the fit"
   ]
  },
  {
   "cell_type": "code",
   "execution_count": 16,
   "metadata": {},
   "outputs": [],
   "source": [
    "features = pd.read_csv('../calculate_features/features_train_mod_name.csv')\n",
    "features.set_index('instance', inplace=True)\n",
    "fits['n'] = features[['nvarsOrig']]"
   ]
  },
  {
   "cell_type": "code",
   "execution_count": 17,
   "metadata": {},
   "outputs": [
    {
     "data": {
      "text/html": [
       "<div>\n",
       "<style scoped>\n",
       "    .dataframe tbody tr th:only-of-type {\n",
       "        vertical-align: middle;\n",
       "    }\n",
       "\n",
       "    .dataframe tbody tr th {\n",
       "        vertical-align: top;\n",
       "    }\n",
       "\n",
       "    .dataframe thead th {\n",
       "        text-align: right;\n",
       "    }\n",
       "</style>\n",
       "<table border=\"1\" class=\"dataframe\">\n",
       "  <thead>\n",
       "    <tr style=\"text-align: right;\">\n",
       "      <th></th>\n",
       "      <th>p1</th>\n",
       "      <th>p2</th>\n",
       "      <th>lambda1</th>\n",
       "      <th>lambda2</th>\n",
       "      <th>n</th>\n",
       "    </tr>\n",
       "    <tr>\n",
       "      <th>instance</th>\n",
       "      <th></th>\n",
       "      <th></th>\n",
       "      <th></th>\n",
       "      <th></th>\n",
       "      <th></th>\n",
       "    </tr>\n",
       "  </thead>\n",
       "  <tbody>\n",
       "    <tr>\n",
       "      <th>gen_n210_m903_k3SAT_seed2473397791.cnf</th>\n",
       "      <td>1.0</td>\n",
       "      <td>NaN</td>\n",
       "      <td>3214.106667</td>\n",
       "      <td>NaN</td>\n",
       "      <td>210.0</td>\n",
       "    </tr>\n",
       "    <tr>\n",
       "      <th>gen_n210_m903_k3SAT_seed862748622.cnf</th>\n",
       "      <td>1.0</td>\n",
       "      <td>NaN</td>\n",
       "      <td>13425.176667</td>\n",
       "      <td>NaN</td>\n",
       "      <td>210.0</td>\n",
       "    </tr>\n",
       "    <tr>\n",
       "      <th>gen_n210_m903_k3SAT_seed4006075830.cnf</th>\n",
       "      <td>1.0</td>\n",
       "      <td>NaN</td>\n",
       "      <td>1295.156667</td>\n",
       "      <td>NaN</td>\n",
       "      <td>210.0</td>\n",
       "    </tr>\n",
       "    <tr>\n",
       "      <th>gen_n210_m903_k3SAT_seed1547818438.cnf</th>\n",
       "      <td>1.0</td>\n",
       "      <td>NaN</td>\n",
       "      <td>1365.623333</td>\n",
       "      <td>NaN</td>\n",
       "      <td>210.0</td>\n",
       "    </tr>\n",
       "    <tr>\n",
       "      <th>gen_n210_m903_k3SAT_seed3919912883.cnf</th>\n",
       "      <td>1.0</td>\n",
       "      <td>NaN</td>\n",
       "      <td>1511.253333</td>\n",
       "      <td>NaN</td>\n",
       "      <td>210.0</td>\n",
       "    </tr>\n",
       "  </tbody>\n",
       "</table>\n",
       "</div>"
      ],
      "text/plain": [
       "                                         p1  p2       lambda1  lambda2      n\n",
       "instance                                                                     \n",
       "gen_n210_m903_k3SAT_seed2473397791.cnf  1.0 NaN   3214.106667      NaN  210.0\n",
       "gen_n210_m903_k3SAT_seed862748622.cnf   1.0 NaN  13425.176667      NaN  210.0\n",
       "gen_n210_m903_k3SAT_seed4006075830.cnf  1.0 NaN   1295.156667      NaN  210.0\n",
       "gen_n210_m903_k3SAT_seed1547818438.cnf  1.0 NaN   1365.623333      NaN  210.0\n",
       "gen_n210_m903_k3SAT_seed3919912883.cnf  1.0 NaN   1511.253333      NaN  210.0"
      ]
     },
     "execution_count": 17,
     "metadata": {},
     "output_type": "execute_result"
    }
   ],
   "source": [
    "fits.head()"
   ]
  },
  {
   "cell_type": "markdown",
   "metadata": {},
   "source": [
    "## Setup functions for numerical optimization"
   ]
  },
  {
   "cell_type": "code",
   "execution_count": 18,
   "metadata": {},
   "outputs": [],
   "source": [
    "def condition(t, rv, b):\n",
    "    if t <= 0:\n",
    "        return -np.inf\n",
    "    F = rv.cdf(t)\n",
    "    result = (F - 1.0)*t\n",
    "    result += F*(1-F)/(rv.pdf(t))\n",
    "    result -= rv.partial_exp(t)\n",
    "    return result - b"
   ]
  },
  {
   "cell_type": "code",
   "execution_count": 19,
   "metadata": {},
   "outputs": [],
   "source": [
    "def find_restart_time(p1, lambda1, lambda2, n, c=1.5):\n",
    "    ps = [p1, 1.0-p1]\n",
    "    scales = [lambda1, lambda2]\n",
    "    rv = ExponMixture(ps, scales)\n",
    "    b = c*n\n",
    "    solution = root_scalar(condition, args=(rv, b), x0=10.0*b, x1=b, method='secant', xtol=1.0)\n",
    "    return np.ceil(solution.root + b)"
   ]
  },
  {
   "cell_type": "code",
   "execution_count": 20,
   "metadata": {},
   "outputs": [],
   "source": [
    "def evaluate_restart_time(data, t):\n",
    "    mean = np.mean(data) # For the computation of the speedup, the mean is needed\n",
    "    cumsum = 0.0 # This is used for the conditional expectation\n",
    "    i = 0\n",
    "    while data[i] <= t:\n",
    "        cumsum += data[i]\n",
    "        i += 1\n",
    "    if i == 0:\n",
    "        return 0\n",
    "    ecdf = i/300.0 # We measured 300 runs\n",
    "    geom_part = (1.0 - ecdf)/ecdf * t # This part describes the geometric part of the expectation with restarts\n",
    "    cond_exp = cumsum/float(i) # partial expectation -> conditional expectation\n",
    "    speedup = mean/(geom_part + cond_exp)\n",
    "    return speedup"
   ]
  },
  {
   "cell_type": "markdown",
   "metadata": {},
   "source": [
    "## Calculate speedups on true mixtures"
   ]
  },
  {
   "cell_type": "code",
   "execution_count": 31,
   "metadata": {},
   "outputs": [
    {
     "name": "stdout",
     "output_type": "stream",
     "text": [
      "1.0297045668398577\n",
      "1.002513935390249\n",
      "1.1278374866172416\n",
      "1.0080260263871315\n",
      "1.0550916283813656\n",
      "1.6240404654365284\n",
      "1.0362653738363266\n",
      "1.0170228369960141\n",
      "4.079519536707226\n",
      "1.0606755259057308\n",
      "1.0406679110189865\n",
      "1.049926997029503\n",
      "0.8865885610633896\n",
      "1.030593615177877\n",
      "1.0793516449802116\n",
      "107900.79292023435\n",
      "9382.815243725503\n",
      "1855847.2119447782\n",
      "8.071205669328503\n",
      "16.92435188949622\n",
      "5289.386835150405\n",
      "245.78003383143852\n",
      "9.414259079976077\n",
      "148.03102840415906\n",
      "55933.505160439556\n",
      "46245.8475305699\n",
      "13.615590216334116\n",
      "6.45254851517665\n",
      "11299.055871820661\n",
      "12.73735212925223\n",
      "12.256130910229713\n",
      "63512.927006238875\n",
      "6.850333991365335\n",
      "1.7890328657100358\n",
      "173.94327216746223\n",
      "379.0299943901607\n",
      "107.99765368177644\n",
      "327.412648520895\n",
      "67.75177254225619\n",
      "81.59516780205298\n",
      "1705.4925838536305\n",
      "12.877389872852262\n",
      "1110.0546750681647\n",
      "110.58047715392301\n",
      "6249.48651547729\n",
      "78.1799300563144\n",
      "25.45336185931454\n",
      "188.82925010489376\n",
      "34949.53244293309\n",
      "96.11912721442204\n",
      "1.9810373934837182\n",
      "3.954793197740398\n",
      "1046.4821621232607\n",
      "17.118582964806194\n",
      "1600.4897183541061\n",
      "1084.3621028056275\n",
      "14.227073060934654\n",
      "11.87523818713893\n",
      "8.768250295360446\n",
      "252.6511800553363\n",
      "1267.4116087526825\n",
      "27.26291968789407\n",
      "40.652140242507436\n",
      "1196.3563375799074\n",
      "201.22593711467326\n",
      "51.67553594411674\n",
      "3528.6115335977156\n",
      "6620.915953056235\n",
      "211.82647019853394\n",
      "7.742734215338281\n",
      "881.3778290405412\n",
      "4.27360082993308\n",
      "37.98413611902502\n",
      "17.134158995060634\n",
      "3.6763242819602597\n",
      "248.09157569854366\n",
      "170.0551934990074\n",
      "8.165566716634679\n",
      "2754.6703757704436\n",
      "128.8817677420505\n",
      "405.53499263037446\n",
      "32.43873587113219\n",
      "2.4122605739019285\n",
      "620.1968218182466\n",
      "44815.78034950395\n",
      "123.34368652137115\n",
      "420.2655348382592\n",
      "6510.379501330928\n",
      "11.89048281990985\n",
      "3935.0425632939405\n",
      "2963.0738583978755\n",
      "2813.7313690752967\n",
      "131.76070035379172\n",
      "144.38088863098338\n",
      "43.95741329626945\n",
      "1545.7240615850437\n",
      "10.341073559555944\n",
      "825.373705273878\n",
      "214.20243612802926\n",
      "934.4153161283779\n",
      "3.124183428399881\n",
      "1548.4515327654676\n",
      "1.0432240498386518\n",
      "1745.2790009031385\n",
      "50.922482036640496\n",
      "763.8260411267606\n",
      "66.68714613416692\n",
      "1.0126000852322579\n",
      "1.0520880512216424\n",
      "394.280143923092\n",
      "2005.6500227072754\n",
      "1210.9798249399807\n",
      "114.51328507078507\n",
      "1.0227377022486044\n",
      "719.0099968834113\n",
      "193.68268087563388\n",
      "12.1334266749637\n",
      "140.9934372649881\n",
      "49.69803791270286\n",
      "139.82284831705505\n",
      "50.73586372105403\n",
      "28.008073579184448\n",
      "7.041500962226996\n",
      "4885.706683249799\n",
      "462.06955153422496\n",
      "99.74185431702071\n",
      "7226767.743784085\n",
      "21707.276683932694\n",
      "21124.31350838452\n",
      "587.2494572866187\n",
      "2837.3236600614664\n",
      "3312.2842395772664\n",
      "1.1102312099346663\n",
      "101560.5726382861\n",
      "123904.85964563688\n",
      "1577.9025154259334\n",
      "109.72823807316158\n",
      "88.66375559150092\n",
      "723.1768321481283\n",
      "126544.23691132113\n",
      "56.91850707371557\n",
      "20.65459508818311\n",
      "108.2899933386873\n",
      "32.17609205935221\n",
      "2933.1527167604154\n",
      "1965.5430259269956\n",
      "1826.6858141563164\n",
      "591419.0718610932\n",
      "5077.044210620854\n",
      "60915.121201870505\n",
      "1.006000841224729\n",
      "10946.99094320471\n",
      "618.156370227112\n"
     ]
    }
   ],
   "source": [
    "mixed_fits = fits[fits['p1']<1.0]\n",
    "underestimate = 0\n",
    "speedups = []\n",
    "for index, row in mixed_fits.iterrows():\n",
    "    restart_time = find_restart_time(row[0], row[2], row[3], row[4], c=1.5)\n",
    "    speedup = evaluate_restart_time(np.asarray(df.loc[index])[1:],  restart_time)\n",
    "    if speedup == 0:\n",
    "        underestimate += 1\n",
    "#         print(index, \"lamba1\", row[2], \"lambda2\", row[3], \"restart time:\", restart_time)\n",
    "    else:\n",
    "        print(speedup)\n",
    "        speedups.append(speedup)"
   ]
  },
  {
   "cell_type": "markdown",
   "metadata": {},
   "source": [
    "## Calculate average speedup"
   ]
  },
  {
   "cell_type": "code",
   "execution_count": 32,
   "metadata": {},
   "outputs": [
    {
     "data": {
      "text/plain": [
       "157.35845337386866"
      ]
     },
     "execution_count": 32,
     "metadata": {},
     "output_type": "execute_result"
    }
   ],
   "source": [
    "gmean(speedups)"
   ]
  },
  {
   "cell_type": "code",
   "execution_count": 34,
   "metadata": {},
   "outputs": [
    {
     "name": "stdout",
     "output_type": "stream",
     "text": [
      "5 of 158\n"
     ]
    }
   ],
   "source": [
    "print(f\"{underestimate} of {len(mixed_fits)}\")"
   ]
  },
  {
   "cell_type": "code",
   "execution_count": null,
   "metadata": {},
   "outputs": [],
   "source": []
  },
  {
   "cell_type": "markdown",
   "metadata": {},
   "source": [
    "# Average speedup on all instances"
   ]
  },
  {
   "cell_type": "code",
   "execution_count": 30,
   "metadata": {},
   "outputs": [],
   "source": [
    "underestimate = 0\n",
    "speedups = []\n",
    "for index, row in fits.iterrows():\n",
    "    if row[0] < 1.0:\n",
    "        restart_time = find_restart_time(row[0], row[2], row[3], row[4], c=1.5)\n",
    "        speedup = evaluate_restart_time(np.asarray(df.loc[index])[1:],  restart_time)\n",
    "        if speedup == 0:\n",
    "            underestimate += 1\n",
    "        else:\n",
    "            speedups.append(speedup)\n",
    "    else:\n",
    "        speedups.append(1.0) # In this case restarts are not performed, therefore no speedup or slowdown can be observed"
   ]
  },
  {
   "cell_type": "code",
   "execution_count": 25,
   "metadata": {},
   "outputs": [
    {
     "name": "stdout",
     "output_type": "stream",
     "text": [
      "[1.0, 1.0, 1.0, 1.0, 1.0, 1.0297045668398577, 1.002513935390249, 1.0, 1.0, 1.0, 1.0, 1.0, 1.0, 1.0, 1.0, 1.0, 1.0, 1.0, 1.0, 1.0, 1.0, 1.0, 1.0, 1.0, 1.0, 1.0, 1.0, 1.0, 1.1278374866172416, 1.0, 1.0080260263871315, 1.0550916283813656, 1.0, 1.0, 1.0, 1.0, 1.0, 1.0, 1.6240404654365284, 1.0, 1.0, 1.0, 1.0, 1.0, 1.0, 1.0, 1.0, 1.0, 1.0, 1.0, 1.0, 1.0, 1.0, 1.0, 1.0, 1.0, 1.0, 1.0, 1.0, 1.0, 1.0, 1.0362653738363266, 1.0, 1.0170228369960141, 1.0, 1.0, 1.0, 1.0, 1.0, 1.0, 1.0, 1.0, 1.0, 1.0, 1.0, 4.079519536707226, 1.0, 1.0, 1.0, 1.0, 1.0606755259057308, 1.0, 1.0406679110189865, 1.0, 1.0, 1.049926997029503, 1.0, 1.0, 0.8865885610633896, 1.0, 1.030593615177877, 1.0793516449802116, 1.0, 1.0, 1.0, 1.0, 1.0, 1.0, 1.0, 1.0, 107900.79292023435, 9382.815243725503, 1855847.2119447782, 8.071205669328503, 16.92435188949622, 5289.386835150405, 245.78003383143852, 1.0, 9.414259079976077, 148.03102840415906, 55933.505160439556, 46245.8475305699, 13.615590216334116, 6.45254851517665, 11299.055871820661, 12.73735212925223, 12.256130910229713, 63512.927006238875, 1.0, 6.850333991365335, 1.7890328657100358, 173.94327216746223, 1.0, 379.0299943901607, 1.0, 107.99765368177644, 327.412648520895, 67.75177254225619, 1.0, 81.59516780205298, 1705.4925838536305, 12.877389872852262, 1110.0546750681647, 110.58047715392301, 1.0, 6249.48651547729, 78.1799300563144, 25.45336185931454, 188.82925010489376, 34949.53244293309, 96.11912721442204, 1.9810373934837182, 3.954793197740398, 1046.4821621232607, 17.118582964806194, 1600.4897183541061, 1084.3621028056275, 14.227073060934654, 11.87523818713893, 8.768250295360446, 1.0, 252.6511800553363, 1267.4116087526825, 27.26291968789407, 40.652140242507436, 1196.3563375799074, 201.22593711467326, 51.67553594411674, 3528.6115335977156, 6620.915953056235, 211.82647019853394, 1.0, 7.742734215338281, 881.3778290405412, 4.27360082993308, 37.98413611902502, 17.134158995060634, 3.6763242819602597, 248.09157569854366, 170.0551934990074, 8.165566716634679, 2754.6703757704436, 1.0, 1.0, 128.8817677420505, 405.53499263037446, 32.43873587113219, 2.4122605739019285, 1.0, 620.1968218182466, 44815.78034950395, 123.34368652137115, 420.2655348382592, 6510.379501330928, 11.89048281990985, 3935.0425632939405, 2963.0738583978755, 2813.7313690752967, 131.76070035379172, 144.38088863098338, 43.95741329626945, 1545.7240615850437, 10.341073559555944, 825.373705273878, 214.20243612802926, 934.4153161283779, 3.124183428399881, 1548.4515327654676, 1.0, 1.0432240498386518, 1.0, 1745.2790009031385, 50.922482036640496, 763.8260411267606, 1.0, 66.68714613416692, 1.0126000852322579, 1.0520880512216424, 394.280143923092, 2005.6500227072754, 1210.9798249399807, 1.0, 114.51328507078507, 1.0, 1.0227377022486044, 1.0, 719.0099968834113, 1.0, 193.68268087563388, 1.0, 1.0, 1.0, 12.1334266749637, 1.0, 1.0, 140.9934372649881, 1.0, 49.69803791270286, 139.82284831705505, 1.0, 1.0, 50.73586372105403, 1.0, 28.008073579184448, 1.0, 7.041500962226996, 1.0, 4885.706683249799, 1.0, 1.0, 1.0, 462.06955153422496, 1.0, 1.0, 1.0, 1.0, 1.0, 99.74185431702071, 7226767.743784085, 1.0, 21707.276683932694, 21124.31350838452, 587.2494572866187, 2837.3236600614664, 3312.2842395772664, 1.1102312099346663, 101560.5726382861, 123904.85964563688, 1.0, 1.0, 1577.9025154259334, 109.72823807316158, 88.66375559150092, 1.0, 1.0, 723.1768321481283, 126544.23691132113, 56.91850707371557, 20.65459508818311, 1.0, 108.2899933386873, 1.0, 32.17609205935221, 2933.1527167604154, 1965.5430259269956, 1.0, 1.0, 1826.6858141563164, 591419.0718610932, 5077.044210620854, 1.0, 60915.121201870505, 1.0, 1.0, 1.0, 1.006000841224729, 10946.99094320471, 1.0, 1.0, 1.0, 1.0, 1.0, 1.0, 1.0, 618.156370227112]\n"
     ]
    }
   ],
   "source": [
    "print(speedups)"
   ]
  },
  {
   "cell_type": "code",
   "execution_count": 26,
   "metadata": {},
   "outputs": [
    {
     "data": {
      "text/plain": [
       "13.784912277825212"
      ]
     },
     "execution_count": 26,
     "metadata": {},
     "output_type": "execute_result"
    }
   ],
   "source": [
    "gmean(speedups)"
   ]
  },
  {
   "cell_type": "code",
   "execution_count": 27,
   "metadata": {},
   "outputs": [
    {
     "data": {
      "text/plain": [
       "5"
      ]
     },
     "execution_count": 27,
     "metadata": {},
     "output_type": "execute_result"
    }
   ],
   "source": [
    "underestimate"
   ]
  },
  {
   "cell_type": "markdown",
   "metadata": {},
   "source": [
    "## Average speedup on all qhid and komb instances"
   ]
  },
  {
   "cell_type": "code",
   "execution_count": 37,
   "metadata": {},
   "outputs": [],
   "source": [
    "underestimate = 0\n",
    "speedups = []\n",
    "for index, row in fits.iterrows():\n",
    "    if optimal_df['type'].loc[index] == 'barthel':\n",
    "        continue\n",
    "    if row[0] < 1.0:\n",
    "        restart_time = find_restart_time(row[0], row[2], row[3], row[4], c=1.5)\n",
    "        speedup = evaluate_restart_time(np.asarray(df.loc[index])[1:],  restart_time)\n",
    "        if speedup == 0:\n",
    "            underestimate += 1\n",
    "        else:\n",
    "            speedups.append(speedup)\n",
    "    else:\n",
    "        speedups.append(1.0) # In this case restarts are not performed, therefore no speedup or slowdown can be observed"
   ]
  },
  {
   "cell_type": "code",
   "execution_count": 39,
   "metadata": {},
   "outputs": [
    {
     "data": {
      "text/plain": [
       "52.313283821216174"
      ]
     },
     "execution_count": 39,
     "metadata": {},
     "output_type": "execute_result"
    }
   ],
   "source": [
    "gmean(speedups)"
   ]
  },
  {
   "cell_type": "code",
   "execution_count": 40,
   "metadata": {},
   "outputs": [
    {
     "name": "stdout",
     "output_type": "stream",
     "text": [
      "5 of 195\n"
     ]
    }
   ],
   "source": [
    "print(f\"{underestimate} of {len(speedups)}\")"
   ]
  },
  {
   "cell_type": "markdown",
   "metadata": {},
   "source": [
    "## Average speedup on qhid and komb instances with two components"
   ]
  },
  {
   "cell_type": "code",
   "execution_count": 41,
   "metadata": {},
   "outputs": [],
   "source": [
    "underestimate = 0\n",
    "speedups = []\n",
    "for index, row in fits.iterrows():\n",
    "    if optimal_df['type'].loc[index] == 'barthel':\n",
    "        continue\n",
    "    if row[0] < 1.0:\n",
    "        restart_time = find_restart_time(row[0], row[2], row[3], row[4], c=1.5)\n",
    "        speedup = evaluate_restart_time(np.asarray(df.loc[index])[1:],  restart_time)\n",
    "        if speedup == 0:\n",
    "            underestimate += 1\n",
    "        else:\n",
    "            speedups.append(speedup)"
   ]
  },
  {
   "cell_type": "code",
   "execution_count": 42,
   "metadata": {},
   "outputs": [
    {
     "data": {
      "text/plain": [
       "268.20906585871154"
      ]
     },
     "execution_count": 42,
     "metadata": {},
     "output_type": "execute_result"
    }
   ],
   "source": [
    "gmean(speedups)"
   ]
  },
  {
   "cell_type": "code",
   "execution_count": 43,
   "metadata": {},
   "outputs": [
    {
     "name": "stdout",
     "output_type": "stream",
     "text": [
      "5 of 138\n"
     ]
    }
   ],
   "source": [
    "print(f\"{underestimate} of {len(speedups)}\")"
   ]
  },
  {
   "cell_type": "code",
   "execution_count": null,
   "metadata": {},
   "outputs": [],
   "source": []
  },
  {
   "cell_type": "markdown",
   "metadata": {},
   "source": [
    "# Restriction to qhid instances with 50 variables, komb instances with 100 variables and instances with 'true' mixtures."
   ]
  },
  {
   "cell_type": "code",
   "execution_count": 47,
   "metadata": {},
   "outputs": [],
   "source": [
    "underestimate = 0\n",
    "speedups = []\n",
    "for index, row in fits.iterrows():\n",
    "    if optimal_df['type'].loc[index] == 'barthel':\n",
    "        continue\n",
    "    if (not 'n100' in index) and (not 'n50' in index):\n",
    "        continue\n",
    "    if row[0] < 1.0:\n",
    "        restart_time = find_restart_time(row[0], row[2], row[3], row[4], c=1.5)\n",
    "        speedup = evaluate_restart_time(np.asarray(df.loc[index])[1:],  restart_time)\n",
    "        if speedup == 0:\n",
    "            underestimate += 1\n",
    "        else:\n",
    "            speedups.append(speedup)"
   ]
  },
  {
   "cell_type": "code",
   "execution_count": 48,
   "metadata": {},
   "outputs": [
    {
     "data": {
      "text/plain": [
       "[620.1968218182466,\n",
       " 44815.78034950395,\n",
       " 123.34368652137115,\n",
       " 420.2655348382592,\n",
       " 6510.379501330928,\n",
       " 11.89048281990985,\n",
       " 3935.0425632939405,\n",
       " 2963.0738583978755,\n",
       " 2813.7313690752967,\n",
       " 131.76070035379172,\n",
       " 144.38088863098338,\n",
       " 43.95741329626945,\n",
       " 1545.7240615850437,\n",
       " 10.341073559555944,\n",
       " 825.373705273878,\n",
       " 214.20243612802926,\n",
       " 934.4153161283779,\n",
       " 3.124183428399881,\n",
       " 123904.85964563688,\n",
       " 1577.9025154259334,\n",
       " 109.72823807316158,\n",
       " 88.66375559150092,\n",
       " 723.1768321481283,\n",
       " 126544.23691132113,\n",
       " 56.91850707371557,\n",
       " 20.65459508818311,\n",
       " 108.2899933386873,\n",
       " 32.17609205935221,\n",
       " 2933.1527167604154,\n",
       " 1965.5430259269956]"
      ]
     },
     "execution_count": 48,
     "metadata": {},
     "output_type": "execute_result"
    }
   ],
   "source": [
    "speedups"
   ]
  },
  {
   "cell_type": "code",
   "execution_count": 49,
   "metadata": {},
   "outputs": [
    {
     "data": {
      "text/plain": [
       "464.7323565468142"
      ]
     },
     "execution_count": 49,
     "metadata": {},
     "output_type": "execute_result"
    }
   ],
   "source": [
    "gmean(speedups)"
   ]
  },
  {
   "cell_type": "code",
   "execution_count": null,
   "metadata": {},
   "outputs": [],
   "source": []
  }
 ],
 "metadata": {
  "kernelspec": {
   "display_name": "Python 3",
   "language": "python",
   "name": "python3"
  },
  "language_info": {
   "codemirror_mode": {
    "name": "ipython",
    "version": 3
   },
   "file_extension": ".py",
   "mimetype": "text/x-python",
   "name": "python",
   "nbconvert_exporter": "python",
   "pygments_lexer": "ipython3",
   "version": "3.8.5"
  }
 },
 "nbformat": 4,
 "nbformat_minor": 4
}
